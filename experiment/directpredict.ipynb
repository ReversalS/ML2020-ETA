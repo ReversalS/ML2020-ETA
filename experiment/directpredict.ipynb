{
 "cells": [
  {
   "cell_type": "markdown",
   "metadata": {},
   "source": [
    "# 直接预测\n",
    "\n",
    "1. 考虑一条GPS数据预测一个ETA（优先实现）\n",
    "\n",
    "2. 考虑一段GPS数据预测一个ETA（narrow/wide window）"
   ]
  },
  {
   "cell_type": "code",
   "execution_count": 1,
   "metadata": {
    "tags": []
   },
   "outputs": [
    {
     "output_type": "stream",
     "name": "stdout",
     "text": "e:\\Code\\ML2020-ETA\n"
    }
   ],
   "source": [
    "import os\n",
    "os.chdir('../')\n",
    "print(os.path.abspath('.'))"
   ]
  },
  {
   "cell_type": "markdown",
   "metadata": {},
   "source": [
    "## 数据预处理\n",
    "\n",
    "使用`DataProcessor`类，针对A轮测试数据进行一轮dump\n"
   ]
  },
  {
   "cell_type": "code",
   "execution_count": 2,
   "metadata": {
    "tags": []
   },
   "outputs": [
    {
     "output_type": "stream",
     "name": "stdout",
     "text": "feature and target generation took 174.5096275806427 seconds\n"
    }
   ],
   "source": [
    "from preprocess import DataProcessor\n",
    "\n",
    "dataprocessor = DataProcessor(\n",
    "    output_dir='data/preprocessed'\n",
    ")\n",
    "f = open('experiment/log.txt', 'w')\n",
    "f.write('Starting to dump train data...\\n')\n",
    "try:\n",
    "    dataprocessor.dump_test_oriented_train_data(\n",
    "        port_path='data/port.csv',\n",
    "        # gps_path='data/filtered_data.csv',\n",
    "        gps_path='data/train0523.csv',\n",
    "        event_path='data/loadingOrderEvent.csv',\n",
    "        test_path='data/A_testData0531.csv',\n",
    "        rewrite=True,\n",
    "        # debug=True\n",
    "        debug=False\n",
    "    )\n",
    "except:\n",
    "    f.write('Train data failed.\\n')\n",
    "\n",
    "f.write('Starting to dump test data...\\n')\n",
    "try:\n",
    "    dataprocessor.dump_test_data(\n",
    "        port_path='data/port.csv',\n",
    "        test_data_path='data/A_testData0531.csv',\n",
    "        rewrite=True,\n",
    "        # debug=True\n",
    "        debug=False\n",
    "    )\n",
    "except:\n",
    "    f.write('Test data failed.\\n')\n",
    "\n",
    "f.write('Starting to seperate data...\\n')\n",
    "dataprocessor.seperate_dataset_by_trace(\n",
    "    trace_map_path='data/preprocessed/train_trace.csv',\n",
    "    feature_path='data/preprocessed/train_features.csv'\n",
    ")\n",
    "dataprocessor.seperate_dataset_by_trace(\n",
    "    trace_map_path='data/preprocessed/train_trace.csv',\n",
    "    feature_path='data/preprocessed/train_target.csv'\n",
    ")\n",
    "dataprocessor.seperate_dataset_by_trace(\n",
    "    trace_map_path='data/preprocessed/test_trace.csv',\n",
    "    feature_path='data/preprocessed/test_features.csv'\n",
    ")\n",
    "f.close()\n",
    "# generate validate (train_test_split(x_train, y_train))"
   ]
  },
  {
   "cell_type": "markdown",
   "metadata": {},
   "source": [
    "## 训练\n",
    "\n",
    "主要使用lightgbm, xgboost"
   ]
  },
  {
   "cell_type": "code",
   "execution_count": 3,
   "metadata": {},
   "outputs": [],
   "source": [
    "# import lightgbm as lgb"
   ]
  },
  {
   "cell_type": "markdown",
   "metadata": {},
   "source": [
    "## 测试/预测\n",
    "\n",
    "先按照A轮的测试数据设计，只有起止港"
   ]
  },
  {
   "cell_type": "code",
   "execution_count": 4,
   "metadata": {},
   "outputs": [],
   "source": [
    "# y_pred = model.predict(x_test)\n",
    "# result_df = dataprocessor.form_results(x_test, y_pred)"
   ]
  },
  {
   "cell_type": "code",
   "execution_count": null,
   "metadata": {},
   "outputs": [],
   "source": []
  }
 ],
 "metadata": {
  "language_info": {
   "codemirror_mode": {
    "name": "ipython",
    "version": 3
   },
   "file_extension": ".py",
   "mimetype": "text/x-python",
   "name": "python",
   "nbconvert_exporter": "python",
   "pygments_lexer": "ipython3",
   "version": "3.7.7-final"
  },
  "orig_nbformat": 2,
  "kernelspec": {
   "name": "python37764bittfenv20conda766c41579b2b4f15b06adf3d1d69eb2b",
   "display_name": "Python 3.7.7 64-bit ('tfenv20': conda)"
  }
 },
 "nbformat": 4,
 "nbformat_minor": 2
}