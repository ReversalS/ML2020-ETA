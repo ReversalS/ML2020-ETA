{
 "cells": [
  {
   "cell_type": "markdown",
   "metadata": {},
   "source": [
    "# 直接预测\n",
    "\n",
    "1. 考虑一条GPS数据预测一个ETA（优先实现）\n",
    "\n",
    "2. 考虑一段GPS数据预测一个ETA（narrow/wide window）"
   ]
  },
  {
   "cell_type": "code",
   "execution_count": 1,
   "metadata": {},
   "outputs": [
    {
     "output_type": "stream",
     "name": "stdout",
     "text": "e:\\Code\\ML2020-ETA\n"
    }
   ],
   "source": [
    "import os\n",
    "os.chdir('../')\n",
    "print(os.path.abspath('.'))"
   ]
  },
  {
   "cell_type": "markdown",
   "metadata": {},
   "source": [
    "## 数据预处理\n",
    "\n",
    "使用`DataProcessor`类，封装`load_train_data`和`load_test_data`，屏蔽底层细节。\n"
   ]
  },
  {
   "cell_type": "code",
   "execution_count": 2,
   "metadata": {},
   "outputs": [
    {
     "output_type": "stream",
     "name": "stdout",
     "text": "chunk took 92.13641238212585 seconds\nchunk took 55.631030559539795 seconds\n"
    },
    {
     "output_type": "error",
     "ename": "TypeError",
     "evalue": "cannot unpack non-iterable NoneType object",
     "traceback": [
      "\u001b[1;31m---------------------------------------------------------------------------\u001b[0m",
      "\u001b[1;31mTypeError\u001b[0m                                 Traceback (most recent call last)",
      "\u001b[1;32m<ipython-input-2-d12f45817c15>\u001b[0m in \u001b[0;36m<module>\u001b[1;34m\u001b[0m\n\u001b[0;32m      7\u001b[0m     \u001b[0mport_path\u001b[0m\u001b[1;33m=\u001b[0m\u001b[1;34m'data/port.csv'\u001b[0m\u001b[1;33m,\u001b[0m\u001b[1;33m\u001b[0m\u001b[1;33m\u001b[0m\u001b[0m\n\u001b[0;32m      8\u001b[0m     \u001b[0mgps_path\u001b[0m\u001b[1;33m=\u001b[0m\u001b[1;34m'data/train0523.csv'\u001b[0m\u001b[1;33m,\u001b[0m\u001b[1;33m\u001b[0m\u001b[1;33m\u001b[0m\u001b[0m\n\u001b[1;32m----> 9\u001b[1;33m     \u001b[0mevent_path\u001b[0m\u001b[1;33m=\u001b[0m\u001b[1;34m'data/loadingOrderEvent.csv'\u001b[0m\u001b[1;33m\u001b[0m\u001b[1;33m\u001b[0m\u001b[0m\n\u001b[0m\u001b[0;32m     10\u001b[0m )\n",
      "\u001b[1;31mTypeError\u001b[0m: cannot unpack non-iterable NoneType object"
     ]
    }
   ],
   "source": [
    "from preprocess import DataProcessor\n",
    "\n",
    "dataprocessor = DataProcessor(\n",
    "    output_dir='data/preprocessed'\n",
    ")\n",
    "x_train_reader, y_train_reader = dataprocessor.load_train_data(\n",
    "    port_path='data/port.csv',\n",
    "    gps_path='data/train0523.csv',\n",
    "    event_path='data/loadingOrderEvent.csv',\n",
    "    rewrite=False   # file overwrite\n",
    ")\n",
    "\n",
    "# generate validate (train_test_split(x_train, y_train))"
   ]
  },
  {
   "cell_type": "markdown",
   "metadata": {},
   "source": [
    "## 训练\n",
    "\n",
    "使用`model`模块，方便多模型？"
   ]
  },
  {
   "cell_type": "code",
   "execution_count": 3,
   "metadata": {},
   "outputs": [],
   "source": [
    "# ..."
   ]
  },
  {
   "cell_type": "markdown",
   "metadata": {},
   "source": [
    "## 测试/预测\n",
    "\n",
    "先按照A轮的测试数据设计，只有起止港"
   ]
  },
  {
   "cell_type": "code",
   "execution_count": 4,
   "metadata": {},
   "outputs": [],
   "source": [
    "x_test = dataprocessor.load_test_data(\n",
    "    test_data_path='data/A_testData0531.csv'\n",
    ")\n",
    "\n",
    "# y_pred = model.predict(x_test)\n",
    "# result_df = dataprocessor.form_results(x_test, y_pred)"
   ]
  }
 ],
 "metadata": {
  "language_info": {
   "codemirror_mode": {
    "name": "ipython",
    "version": 3
   },
   "file_extension": ".py",
   "mimetype": "text/x-python",
   "name": "python",
   "nbconvert_exporter": "python",
   "pygments_lexer": "ipython3",
   "version": "3.7.7-final"
  },
  "orig_nbformat": 2,
  "kernelspec": {
   "name": "python37764bittfenv20conda766c41579b2b4f15b06adf3d1d69eb2b",
   "display_name": "Python 3.7.7 64-bit ('tfenv20': conda)"
  }
 },
 "nbformat": 4,
 "nbformat_minor": 2
}