{
 "cells": [
  {
   "cell_type": "code",
   "execution_count": null,
   "metadata": {
    "collapsed": true
   },
   "outputs": [],
   "source": [
    "import pandas as pd\n",
    "import math\n",
    "import time"
   ]
  },
  {
   "cell_type": "code",
   "execution_count": null,
   "outputs": [],
   "source": [
    "#used to find the most similar string\n",
    "def editDistance(word1, word2) : \n",
    "    m, n = len(word1), len(word2)\n",
    "    dp = [[0 for _ in range(n + 1)] for _ in range(m + 1)]\n",
    "    for i in range(m + 1) :\n",
    "        dp[i][0] = i\n",
    "    for j in range(n + 1):\n",
    "        dp[0][j] = j\n",
    "    for i in range(m):\n",
    "        for j in range(n):\n",
    "            dp[i][j]=min(dp[i][j]+(0 if word1[i] == word2[j] else 1),\n",
    "                         dp[i][j + 1]+1,\n",
    "                         dp[i + 1][j]+1,\n",
    "                         )\n",
    "    return dp[m][n]"
   ],
   "metadata": {
    "collapsed": false,
    "pycharm": {
     "name": "#%%\n"
    }
   }
  },
  {
   "cell_type": "code",
   "execution_count": null,
   "outputs": [],
   "source": [
    "#calculate distance by coordinates\n",
    "def getDistance(lo1, la1, lo2, la2) : \n",
    "    lng1, lat1, lng2, lat2 = map(math. radians, [float(lo1), float(la1), float(lo2), float(la2)])\n",
    "    return 6371 * math.acos(math.sin(lng1) * math.sin(lng2) + math.cos(lng1) * math.cos(lng2) * math.cos(lat1 - lat2))"
   ],
   "metadata": {
    "collapsed": false,
    "pycharm": {
     "name": "#%%\n"
    }
   }
  },
  {
   "cell_type": "code",
   "execution_count": null,
   "outputs": [],
   "source": [
    "#load in port statistics\n",
    "train_data = pd.read_csv('../port.csv')\n",
    "port_loc = {} #portName: location(coordinates)\n",
    "\n",
    "for _, i in train_data.iterrows() :\n",
    "    port_loc.update({i['TRANS_NODE_NAME'] : [i['LATITUDE'], i['LONGITUDE']]})\n",
    "    "
   ],
   "metadata": {
    "collapsed": false,
    "pycharm": {
     "name": "#%%\n"
    }
   }
  },
  {
   "cell_type": "code",
   "execution_count": null,
   "outputs": [],
   "source": [
    "gps_record_reader = pd.read_csv('../head10m - 复件.csv', header=None, low_memory=False, chunksize=1024 * 1024)\n",
    "start_time = time.time()\n",
    "\n",
    "port_mapping = {} #order: current nextPort\n",
    "eta_mapping = {} #order+nextPort: timestamp\n",
    "port_standardizing = {} #informal port name: most similar formal port name #NOT PRECISE\n",
    "\n",
    "count = 0\n",
    "\n",
    "#find ETAs of orders for each port\n",
    "for chunk in gps_record_reader:\n",
    "    for (order, timestamp, longitude, latitude, speed, nextport) in zip(chunk[0], chunk[2], chunk[3], chunk[4], chunk[6], chunk[8]) :\n",
    "        cur_dis = 0\n",
    "\n",
    "        if order in port_mapping : #if arriving at some port\n",
    "            cur_dis = getDistance(longitude, latitude, port_loc[port_mapping[order][0]][0], port_loc[port_mapping[order][0]][1])\n",
    "            if cur_dis < port_mapping[order][1] : #getting closer: not arrived, update stats\n",
    "                port_mapping[order][1] = cur_dis\n",
    "                port_mapping[order][2] = timestamp\n",
    "                port_mapping[order][3] = speed\n",
    "            else :\n",
    "                str = order + ' from ' + port_mapping[order][4] + ' to ' + port_mapping[order][0]\n",
    "                if str in eta_mapping :\n",
    "                    if speed < port_mapping[order][3] : #slowing, preparing for stop\n",
    "                        eta_mapping[str] = timestamp\n",
    "                else :\n",
    "                    eta_mapping.update({str: port_mapping[order][2]})\n",
    "                    #print(cur_dis)\n",
    "\n",
    "\n",
    "        if order in port_mapping : #\n",
    "            if pd.isna(nextport) == False and nextport not in port_loc : #standardize informal port name\n",
    "                if nextport in port_standardizing :\n",
    "                    nextport = port_standardizing[nextport][0]\n",
    "                else :\n",
    "                    port_standardizing.update({nextport : [list(port_loc.keys())[0], editDistance(nextport, list(port_loc.keys())[0])]})\n",
    "                    for i in port_loc :\n",
    "                        eDis = editDistance(nextport, i)\n",
    "                        if eDis < port_standardizing[nextport][1] :\n",
    "                            port_standardizing[nextport] = [i, eDis]\n",
    "                    nextport = port_standardizing[nextport][0]\n",
    "\n",
    "            if pd.isna(nextport) == False and port_mapping[order][0] != nextport : #update nextport\n",
    "                port_mapping[order][4] = port_mapping[order][0]\n",
    "                port_mapping[order][0] = nextport\n",
    "                #port_mapping[order][0] = [port_loc[nextport][0], port_loc[nextport][1]]\n",
    "            port_mapping[order][1] = cur_dis\n",
    "            port_mapping[order][2] = timestamp\n",
    "            port_mapping[order][3] = speed\n",
    "        else :\n",
    "            if pd.isna(nextport) == False :\n",
    "                if nextport not in port_loc : #standardize informal port name\n",
    "                    if nextport in port_standardizing :\n",
    "                        nextport = port_standardizing[nextport][0]\n",
    "                    else :\n",
    "                        port_standardizing.update({nextport: [list(port_loc.keys())[0], editDistance(nextport, list(port_loc.keys())[0])]})\n",
    "                        for i in port_loc :\n",
    "                            eDis = editDistance(nextport, i)\n",
    "                            if eDis < port_standardizing[nextport][1] :\n",
    "                                port_standardizing[nextport] = [i, eDis]\n",
    "                        nextport = port_standardizing[nextport][0]\n",
    "\n",
    "                cur_dis = getDistance(longitude, latitude, port_loc[nextport][0], port_loc[nextport][1])\n",
    "                port_mapping.update({order: [nextport, cur_dis, timestamp, speed, 'start']})\n",
    "                #port_mapping.update({order: [[port_loc[nextport][0], port_loc[nextport][1]], cur_dis, timestamp, speed, [longitude, latitude]]]})\n",
    "\n",
    "        count += 1\n",
    "    if count > 1024 * 1024 * 2 :\n",
    "        break\n",
    "        \n",
    "end_time = time.time()"
   ],
   "metadata": {
    "collapsed": false,
    "pycharm": {
     "name": "#%%\n"
    }
   }
  }
 ],
 "metadata": {
  "kernelspec": {
   "display_name": "Python 3",
   "language": "python",
   "name": "python3"
  },
  "language_info": {
   "codemirror_mode": {
    "name": "ipython",
    "version": 2
   },
   "file_extension": ".py",
   "mimetype": "text/x-python",
   "name": "python",
   "nbconvert_exporter": "python",
   "pygments_lexer": "ipython2",
   "version": "2.7.6"
  },
  "pycharm": {
   "stem_cell": {
    "cell_type": "raw",
    "source": [],
    "metadata": {
     "collapsed": false
    }
   }
  }
 },
 "nbformat": 4,
 "nbformat_minor": 0
}